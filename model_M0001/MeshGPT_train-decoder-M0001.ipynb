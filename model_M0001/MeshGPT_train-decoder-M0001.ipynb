{
 "cells": [
  {
   "cell_type": "code",
   "execution_count": null,
   "metadata": {},
   "outputs": [],
   "source": [
    "project_name = \"model_M0001\"\n",
    "dataset_path = f\"datasets/objverse_shapenet_modelnet_max_250faces_186M_tokens.npz\"\n",
    "encoder_parameters_path = f'{project_name}/models/2024-07-23-M0001-encoder-loss_0.170.pt'\n",
    "decoder_paramters_restart_path = f'{project_name}/models/mesh-transformer.ckpt.epoch_32_avg_loss_0.568.pt'\n",
    "decoder_paramters_save_path = f'{project_name}/models/mesh-transformer-lr_e3.pt'\n",
    "restart_training_checkpoint_path = None\n",
    "\n",
    "import torch\n",
    "import trimesh\n",
    "import numpy as np\n",
    "import os\n",
    "import csv\n",
    "import json\n",
    "from collections import OrderedDict\n",
    "\n",
    "from meshgpt_pytorch import (\n",
    "    MeshTransformerTrainer,\n",
    "    MeshAutoencoderTrainer,\n",
    "    MeshAutoencoder,\n",
    "    MeshTransformer\n",
    ")\n",
    "from meshgpt_pytorch.data import ( \n",
    "    derive_face_edges_from_faces\n",
    ") "
   ]
  },
  {
   "cell_type": "code",
   "execution_count": null,
   "metadata": {},
   "outputs": [],
   "source": [
    "from pathlib import Path \n",
    "import gc     \n",
    "import os\n",
    "from meshgpt_pytorch import MeshDataset \n",
    " \n",
    "working_dir = f'{project_name}'\n",
    "working_dir = Path(working_dir)\n",
    "working_dir.mkdir(exist_ok = True, parents = True)\n",
    "    \n",
    "print(f\"Loading {dataset_path}\")\n",
    "dataset = MeshDataset.load(dataset_path) \n",
    "print(f\"Loaded datasset with keys {dataset.data[0].keys()}\")"
   ]
  },
  {
   "cell_type": "code",
   "execution_count": null,
   "metadata": {},
   "outputs": [],
   "source": [
    "autoencoder = MeshAutoencoder(     \n",
    "    decoder_dims_through_depth =  (128,) * 6 + (192,) * 12 + (256,) * 24 + (384,) * 6,   \n",
    "    dim_codebook = 192,  \n",
    "    dim_area_embed = 16,\n",
    "    dim_coor_embed = 16, \n",
    "    dim_normal_embed = 16,\n",
    "    dim_angle_embed = 8,    \n",
    "    attn_decoder_depth  = 4,\n",
    "    attn_encoder_depth = 2\n",
    ").to(\"cuda\")\n",
    "    \n",
    "total_params = sum(p.numel() for p in autoencoder.parameters()) \n",
    "total_params = f\"{total_params / 1000000:.1f}M\"\n",
    "print(f\"Encoder Total parameters: {total_params}\")"
   ]
  },
  {
   "cell_type": "code",
   "execution_count": null,
   "metadata": {},
   "outputs": [],
   "source": [
    "pkg = torch.load(encoder_parameters_path) \n",
    "autoencoder.load_state_dict(pkg['model'])\n",
    "print(f\"Loaded encoder parameters from {encoder_parameters_path}\")\n",
    "del pkg\n",
    "\n",
    "# for param in autoencoder.parameters():\n",
    "#      param.requires_grad = True"
   ]
  },
  {
   "cell_type": "code",
   "execution_count": null,
   "metadata": {},
   "outputs": [],
   "source": [
    "import gc  \n",
    "torch.cuda.empty_cache()\n",
    "gc.collect()   \n",
    "max_seq = max(len(d[\"faces\"]) for d in dataset if \"faces\" in d)  * (autoencoder.num_vertices_per_face * autoencoder.num_quantizers) \n",
    "print(\"Max token sequence:\" , max_seq)  \n",
    "\n",
    "# # GPT2-Small model\n",
    "transformer = MeshTransformer(\n",
    "    autoencoder,\n",
    "    dim =768,\n",
    "    coarse_pre_gateloop_depth = 6,  \n",
    "    fine_pre_gateloop_depth= 4, \n",
    "    attn_depth = 24,  \n",
    "    attn_heads = 16,\n",
    "    dropout  = 0.0,\n",
    "    max_seq_len = max_seq,\n",
    "    condition_on_text = True, \n",
    "    gateloop_use_heinsen = False,\n",
    "    text_condition_model_types = \"bge\", \n",
    "    text_condition_cond_drop_prob = 0.0, \n",
    ").to(\"cuda\") \n",
    "\n",
    "total_params = sum(p.numel() for p in transformer.decoder.parameters())\n",
    "total_params = f\"{total_params / 1000000:.1f}M\"\n",
    "print(f\"Decoder total parameters: {total_params}\")"
   ]
  },
  {
   "cell_type": "code",
   "execution_count": null,
   "metadata": {},
   "outputs": [],
   "source": [
    "labels = list(set(item[\"texts\"] for item in dataset.data))\n",
    "dataset.embed_texts(transformer, batch_size = 25)\n",
    "dataset.generate_codes(autoencoder, batch_size = 50)\n",
    "print(dataset.data[0].keys())"
   ]
  },
  {
   "cell_type": "markdown",
   "metadata": {},
   "source": [
    "**Train to about 0.0001 loss (or less) if you are using a small dataset**"
   ]
  },
  {
   "cell_type": "code",
   "execution_count": null,
   "metadata": {
    "editable": true,
    "slideshow": {
     "slide_type": ""
    },
    "tags": []
   },
   "outputs": [],
   "source": [
    "batch_size = 3 # Max 64\n",
    "grad_accum_every = 20\n",
    "\n",
    "# Set the maximal batch size (max 64) that your VRAM can handle and then use grad_accum_every to create a effective batch size of 64, e.g  4 * 16 = 64\n",
    "learning_rate = 1e-3 # Start training with the learning rate at 1e-2 then lower it to 1e-3 at stagnation or at 0.5 loss.\n",
    "\n",
    "trainer = MeshTransformerTrainer(model = transformer, warmup_steps=10, num_train_steps=100, dataset = dataset,\n",
    "                                 grad_accum_every=grad_accum_every,\n",
    "                                 learning_rate = learning_rate,\n",
    "                                 batch_size=batch_size,\n",
    "                                 checkpoint_every_epoch = 1,\n",
    "                                 # FP16 training, it doesn't speed up very much but can increase the batch size which will in turn speed up the training.\n",
    "                                 # However it might cause nan after a while.\n",
    "                                 # accelerator_kwargs = {\"mixed_precision\" : \"fp16\"}, optimizer_kwargs = { \"eps\": 1e-7} \n",
    "                                 )\n",
    "\n",
    "print(f\"Loading from checkpoint {decoder_paramters_start}\")\n",
    "trainer.load(decoder_paramters_start)\n",
    "print(f\"Training starting\")\n",
    "loss = trainer.train(300, stop_at_loss = 0.5)  \n",
    "trainer.save(decoder_paramters_save_path)\n",
    "\n"
   ]
  }
 ],
 "metadata": {
  "kaggle": {
   "accelerator": "gpu",
   "dataSources": [],
   "dockerImageVersionId": 30627,
   "isGpuEnabled": true,
   "isInternetEnabled": true,
   "language": "python",
   "sourceType": "notebook"
  },
  "kernelspec": {
   "display_name": "Python 3 (ipykernel)",
   "language": "python",
   "name": "python3"
  },
  "language_info": {
   "codemirror_mode": {
    "name": "ipython",
    "version": 3
   },
   "file_extension": ".py",
   "mimetype": "text/x-python",
   "name": "python",
   "nbconvert_exporter": "python",
   "pygments_lexer": "ipython3",
   "version": "3.12.3"
  }
 },
 "nbformat": 4,
 "nbformat_minor": 4
}
