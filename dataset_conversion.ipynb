{
 "cells": [
  {
   "cell_type": "code",
   "execution_count": 3,
   "id": "f37d93e4-db47-431e-8d1d-b6b9bb4e27ef",
   "metadata": {},
   "outputs": [
    {
     "name": "stdout",
     "output_type": "stream",
     "text": [
      "[MeshDataset] Loaded 218835 entries\n",
      "[MeshDataset] Created from 218835 entries\n",
      "[MeshDataset] Saved 218835 entries at datasets/objverse_shapenet_modelnet_max_250faces_186M_tokens_cpu.npz\n"
     ]
    }
   ],
   "source": [
    "import torch\n",
    "from meshgpt_pytorch import MeshDataset\n",
    "\n",
    "def load_and_remap_to_cpu(dataset_path, output_path):\n",
    "    # Load the dataset\n",
    "    dataset = MeshDataset.load(dataset_path)\n",
    "\n",
    "    # Map all tensors in the dataset to CPU\n",
    "    for data_entry in dataset.data:\n",
    "        for key, value in data_entry.items():\n",
    "            if isinstance(value, torch.Tensor):\n",
    "                data_entry[key] = value.cpu()\n",
    "\n",
    "    # Save the dataset to the new file with CPU-only tensors\n",
    "    dataset.save(output_path)\n",
    "\n",
    "# Paths\n",
    "input_dataset_path = \"datasets/objverse_shapenet_modelnet_max_250faces_186M_tokens.npz\"\n",
    "output_dataset_path = \"datasets/objverse_shapenet_modelnet_max_250faces_186M_tokens_cpu.npz\"\n",
    "\n",
    "# Run the function\n",
    "load_and_remap_to_cpu(input_dataset_path, output_dataset_path)\n"
   ]
  },
  {
   "cell_type": "code",
   "execution_count": 1,
   "id": "1f5665e8-062d-4299-8592-ad9cd043d626",
   "metadata": {},
   "outputs": [
    {
     "name": "stdout",
     "output_type": "stream",
     "text": [
      "[MeshDataset] Loaded 218835 entries\n",
      "[MeshDataset] Created from 218835 entries\n"
     ]
    }
   ],
   "source": [
    "from pathlib import Path \n",
    "import gc     \n",
    "import os\n",
    "from meshgpt_pytorch import MeshDataset \n",
    "dataset_path = f\"proj_large/objverse_shapenet_modelnet_max_250faces_186M_tokens.npz\"\n",
    "dataset = MeshDataset.load(dataset_path) "
   ]
  }
 ],
 "metadata": {
  "kernelspec": {
   "display_name": "Python 3 (ipykernel)",
   "language": "python",
   "name": "python3"
  },
  "language_info": {
   "codemirror_mode": {
    "name": "ipython",
    "version": 3
   },
   "file_extension": ".py",
   "mimetype": "text/x-python",
   "name": "python",
   "nbconvert_exporter": "python",
   "pygments_lexer": "ipython3",
   "version": "3.12.3"
  }
 },
 "nbformat": 4,
 "nbformat_minor": 5
}
